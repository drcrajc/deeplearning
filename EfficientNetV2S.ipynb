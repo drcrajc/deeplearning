{
 "cells": [
  {
   "cell_type": "code",
   "execution_count": 1,
   "metadata": {
    "execution": {
     "iopub.execute_input": "2022-12-19T16:00:06.641031Z",
     "iopub.status.busy": "2022-12-19T16:00:06.640615Z",
     "iopub.status.idle": "2022-12-19T16:00:11.110057Z",
     "shell.execute_reply": "2022-12-19T16:00:11.109047Z",
     "shell.execute_reply.started": "2022-12-19T16:00:06.640952Z"
    },
    "id": "xEJ6blsYVosa",
    "tags": []
   },
   "outputs": [],
   "source": [
    "import matplotlib.pyplot as plt\n",
    "import numpy as np\n",
    "import PIL\n",
    "import tensorflow as tf\n",
    "from tensorflow import keras\n",
    "from tensorflow.keras import layers\n",
    "from tensorflow.python.keras.layers import Dense, Flatten\n",
    "from tensorflow.keras.models import Sequential\n",
    "from tensorflow.keras.optimizers import Adam \n",
    "from tensorflow.keras.preprocessing.image import ImageDataGenerator"
   ]
  },
  {
   "cell_type": "code",
   "execution_count": 2,
   "metadata": {
    "colab": {
     "base_uri": "https://localhost:8080/"
    },
    "execution": {
     "iopub.execute_input": "2022-12-19T16:00:11.113952Z",
     "iopub.status.busy": "2022-12-19T16:00:11.113211Z",
     "iopub.status.idle": "2022-12-19T16:00:11.615956Z",
     "shell.execute_reply": "2022-12-19T16:00:11.614408Z",
     "shell.execute_reply.started": "2022-12-19T16:00:11.113914Z"
    },
    "id": "EoEerL8lKMSH",
    "outputId": "d001d8f1-fb03-4c5a-acd8-0c4bcae260b0"
   },
   "outputs": [
    {
     "name": "stdout",
     "output_type": "stream",
     "text": [
      "Negative  Positive\n"
     ]
    }
   ],
   "source": [
    "!ls /datasets/aibubbsdata"
   ]
  },
  {
   "cell_type": "code",
   "execution_count": 3,
   "metadata": {
    "execution": {
     "iopub.execute_input": "2022-12-19T16:00:11.618861Z",
     "iopub.status.busy": "2022-12-19T16:00:11.618418Z",
     "iopub.status.idle": "2022-12-19T16:00:12.188983Z",
     "shell.execute_reply": "2022-12-19T16:00:12.187683Z",
     "shell.execute_reply.started": "2022-12-19T16:00:11.618815Z"
    }
   },
   "outputs": [
    {
     "name": "stdout",
     "output_type": "stream",
     "text": [
      "Negative  Positive\n"
     ]
    }
   ],
   "source": [
    "!ls /datasets/bubbtest"
   ]
  },
  {
   "cell_type": "code",
   "execution_count": 4,
   "metadata": {
    "colab": {
     "base_uri": "https://localhost:8080/"
    },
    "execution": {
     "iopub.execute_input": "2022-12-19T16:00:12.192062Z",
     "iopub.status.busy": "2022-12-19T16:00:12.191758Z",
     "iopub.status.idle": "2022-12-19T16:00:17.691008Z",
     "shell.execute_reply": "2022-12-19T16:00:17.690348Z",
     "shell.execute_reply.started": "2022-12-19T16:00:12.192034Z"
    },
    "id": "yCA1LKLNVv9H",
    "outputId": "02de2f68-724f-4c6c-8c7b-536739ae0259",
    "tags": []
   },
   "outputs": [
    {
     "name": "stdout",
     "output_type": "stream",
     "text": [
      "Found 17886 files belonging to 2 classes.\n",
      "Using 14309 files for training.\n",
      "Found 17886 files belonging to 2 classes.\n",
      "Using 3577 files for validation.\n",
      "Found 1800 files belonging to 2 classes.\n"
     ]
    }
   ],
   "source": [
    "image_height, image_width = 224, 224\n",
    "batch_size = 512\n",
    "\n",
    "\n",
    "\n",
    "train_ds = tf.keras.utils.image_dataset_from_directory(\n",
    "    \"/datasets/aibubbsdata\",\n",
    "    image_size = (image_height, image_width),\n",
    "    batch_size = batch_size,\n",
    "    subset = \"training\",\n",
    "    seed = 49,\n",
    "    validation_split = 0.2\n",
    "  )\n",
    "\n",
    "    \n",
    "val_ds = tf.keras.utils.image_dataset_from_directory(\n",
    "    \"/datasets/aibubbsdata\",\n",
    "    image_size = (image_height, image_width),\n",
    "    batch_size = batch_size,\n",
    "    subset=\"validation\",\n",
    "    seed = 49,\n",
    "    validation_split = 0.2\n",
    "     )\n",
    "\n",
    "test_ds = tf.keras.utils.image_dataset_from_directory(\n",
    "   \"/datasets/bubbtest\",\n",
    "    image_size = (image_height, image_width),\n",
    "    batch_size = batch_size,\n",
    "     )"
   ]
  },
  {
   "cell_type": "code",
   "execution_count": 5,
   "metadata": {
    "colab": {
     "base_uri": "https://localhost:8080/"
    },
    "execution": {
     "iopub.execute_input": "2022-12-19T16:00:17.693007Z",
     "iopub.status.busy": "2022-12-19T16:00:17.691998Z",
     "iopub.status.idle": "2022-12-19T16:00:17.697764Z",
     "shell.execute_reply": "2022-12-19T16:00:17.696695Z",
     "shell.execute_reply.started": "2022-12-19T16:00:17.692978Z"
    },
    "id": "9NwduyZ4VwC5",
    "outputId": "fab68a5b-b2ed-4e10-bef4-8b1bbd3e27ef",
    "tags": []
   },
   "outputs": [
    {
     "name": "stdout",
     "output_type": "stream",
     "text": [
      "['Negative', 'Positive']\n"
     ]
    }
   ],
   "source": [
    "class_names = train_ds.class_names\n",
    "print(class_names)\n",
    "\n"
   ]
  },
  {
   "cell_type": "code",
   "execution_count": 6,
   "metadata": {
    "execution": {
     "iopub.execute_input": "2022-12-19T16:00:17.700584Z",
     "iopub.status.busy": "2022-12-19T16:00:17.699296Z",
     "iopub.status.idle": "2022-12-19T16:00:18.644505Z",
     "shell.execute_reply": "2022-12-19T16:00:18.642738Z",
     "shell.execute_reply.started": "2022-12-19T16:00:17.700538Z"
    },
    "id": "bVsHx5o5D_lI",
    "tags": []
   },
   "outputs": [
    {
     "ename": "ValueError",
     "evalue": "If using `weights` as `'imagenet'` with `include_top` as true, `classes` should be 1000Received: classes=2",
     "output_type": "error",
     "traceback": [
      "\u001b[0;31m---------------------------------------------------------------------------\u001b[0m",
      "\u001b[0;31mValueError\u001b[0m                                Traceback (most recent call last)",
      "Input \u001b[0;32mIn [6]\u001b[0m, in \u001b[0;36m<cell line: 4>\u001b[0;34m()\u001b[0m\n\u001b[1;32m      1\u001b[0m model \u001b[38;5;241m=\u001b[39m Sequential()\n\u001b[0;32m----> 4\u001b[0m pretrained_model \u001b[38;5;241m=\u001b[39m \u001b[43mtf\u001b[49m\u001b[38;5;241;43m.\u001b[39;49m\u001b[43mkeras\u001b[49m\u001b[38;5;241;43m.\u001b[39;49m\u001b[43mapplications\u001b[49m\u001b[38;5;241;43m.\u001b[39;49m\u001b[43mEfficientNetV2S\u001b[49m\u001b[43m(\u001b[49m\n\u001b[1;32m      5\u001b[0m \u001b[43m    \u001b[49m\u001b[43minclude_top\u001b[49m\u001b[38;5;241;43m=\u001b[39;49m\u001b[38;5;28;43;01mTrue\u001b[39;49;00m\u001b[43m,\u001b[49m\n\u001b[1;32m      6\u001b[0m \u001b[43m    \u001b[49m\u001b[43mweights\u001b[49m\u001b[38;5;241;43m=\u001b[39;49m\u001b[38;5;124;43m'\u001b[39;49m\u001b[38;5;124;43mimagenet\u001b[39;49m\u001b[38;5;124;43m'\u001b[39;49m\u001b[43m,\u001b[49m\n\u001b[1;32m      7\u001b[0m \u001b[43m    \u001b[49m\u001b[43minput_tensor\u001b[49m\u001b[38;5;241;43m=\u001b[39;49m\u001b[38;5;28;43;01mNone\u001b[39;49;00m\u001b[43m,\u001b[49m\n\u001b[1;32m      8\u001b[0m \u001b[43m    \u001b[49m\u001b[43minput_shape\u001b[49m\u001b[38;5;241;43m=\u001b[39;49m\u001b[43m(\u001b[49m\u001b[38;5;241;43m224\u001b[39;49m\u001b[43m,\u001b[49m\u001b[38;5;241;43m224\u001b[39;49m\u001b[43m,\u001b[49m\u001b[38;5;241;43m3\u001b[39;49m\u001b[43m)\u001b[49m\u001b[43m,\u001b[49m\n\u001b[1;32m      9\u001b[0m \u001b[43m    \u001b[49m\u001b[43mclasses\u001b[49m\u001b[38;5;241;43m=\u001b[39;49m\u001b[38;5;241;43m2\u001b[39;49m\u001b[43m,\u001b[49m\n\u001b[1;32m     10\u001b[0m \u001b[43m    \u001b[49m\u001b[43mclassifier_activation\u001b[49m\u001b[38;5;241;43m=\u001b[39;49m\u001b[38;5;124;43m'\u001b[39;49m\u001b[38;5;124;43msoftmax\u001b[39;49m\u001b[38;5;124;43m'\u001b[39;49m\n\u001b[1;32m     11\u001b[0m \u001b[43m)\u001b[49m\n\u001b[1;32m     13\u001b[0m \u001b[38;5;28;01mfor\u001b[39;00m layer \u001b[38;5;129;01min\u001b[39;00m pretrained_model\u001b[38;5;241m.\u001b[39mlayers:\n\u001b[1;32m     14\u001b[0m         layer\u001b[38;5;241m.\u001b[39mtrainable\u001b[38;5;241m=\u001b[39m\u001b[38;5;28;01mFalse\u001b[39;00m\n",
      "File \u001b[0;32m/usr/local/lib/python3.9/dist-packages/keras/applications/efficientnet_v2.py:1190\u001b[0m, in \u001b[0;36mEfficientNetV2S\u001b[0;34m(include_top, weights, input_tensor, input_shape, pooling, classes, classifier_activation, include_preprocessing)\u001b[0m\n\u001b[1;32m   1178\u001b[0m \u001b[38;5;129m@keras_export\u001b[39m(\u001b[38;5;124m\"\u001b[39m\u001b[38;5;124mkeras.applications.efficientnet_v2.EfficientNetV2S\u001b[39m\u001b[38;5;124m\"\u001b[39m,\n\u001b[1;32m   1179\u001b[0m               \u001b[38;5;124m\"\u001b[39m\u001b[38;5;124mkeras.applications.EfficientNetV2S\u001b[39m\u001b[38;5;124m\"\u001b[39m)\n\u001b[1;32m   1180\u001b[0m \u001b[38;5;28;01mdef\u001b[39;00m \u001b[38;5;21mEfficientNetV2S\u001b[39m(\n\u001b[0;32m   (...)\u001b[0m\n\u001b[1;32m   1188\u001b[0m     include_preprocessing\u001b[38;5;241m=\u001b[39m\u001b[38;5;28;01mTrue\u001b[39;00m,\n\u001b[1;32m   1189\u001b[0m ):\n\u001b[0;32m-> 1190\u001b[0m   \u001b[38;5;28;01mreturn\u001b[39;00m \u001b[43mEfficientNetV2\u001b[49m\u001b[43m(\u001b[49m\n\u001b[1;32m   1191\u001b[0m \u001b[43m      \u001b[49m\u001b[43mwidth_coefficient\u001b[49m\u001b[38;5;241;43m=\u001b[39;49m\u001b[38;5;241;43m1.0\u001b[39;49m\u001b[43m,\u001b[49m\n\u001b[1;32m   1192\u001b[0m \u001b[43m      \u001b[49m\u001b[43mdepth_coefficient\u001b[49m\u001b[38;5;241;43m=\u001b[39;49m\u001b[38;5;241;43m1.0\u001b[39;49m\u001b[43m,\u001b[49m\n\u001b[1;32m   1193\u001b[0m \u001b[43m      \u001b[49m\u001b[43mdefault_size\u001b[49m\u001b[38;5;241;43m=\u001b[39;49m\u001b[38;5;241;43m384\u001b[39;49m\u001b[43m,\u001b[49m\n\u001b[1;32m   1194\u001b[0m \u001b[43m      \u001b[49m\u001b[43mmodel_name\u001b[49m\u001b[38;5;241;43m=\u001b[39;49m\u001b[38;5;124;43m\"\u001b[39;49m\u001b[38;5;124;43mefficientnetv2-s\u001b[39;49m\u001b[38;5;124;43m\"\u001b[39;49m\u001b[43m,\u001b[49m\n\u001b[1;32m   1195\u001b[0m \u001b[43m      \u001b[49m\u001b[43minclude_top\u001b[49m\u001b[38;5;241;43m=\u001b[39;49m\u001b[43minclude_top\u001b[49m\u001b[43m,\u001b[49m\n\u001b[1;32m   1196\u001b[0m \u001b[43m      \u001b[49m\u001b[43mweights\u001b[49m\u001b[38;5;241;43m=\u001b[39;49m\u001b[43mweights\u001b[49m\u001b[43m,\u001b[49m\n\u001b[1;32m   1197\u001b[0m \u001b[43m      \u001b[49m\u001b[43minput_tensor\u001b[49m\u001b[38;5;241;43m=\u001b[39;49m\u001b[43minput_tensor\u001b[49m\u001b[43m,\u001b[49m\n\u001b[1;32m   1198\u001b[0m \u001b[43m      \u001b[49m\u001b[43minput_shape\u001b[49m\u001b[38;5;241;43m=\u001b[39;49m\u001b[43minput_shape\u001b[49m\u001b[43m,\u001b[49m\n\u001b[1;32m   1199\u001b[0m \u001b[43m      \u001b[49m\u001b[43mpooling\u001b[49m\u001b[38;5;241;43m=\u001b[39;49m\u001b[43mpooling\u001b[49m\u001b[43m,\u001b[49m\n\u001b[1;32m   1200\u001b[0m \u001b[43m      \u001b[49m\u001b[43mclasses\u001b[49m\u001b[38;5;241;43m=\u001b[39;49m\u001b[43mclasses\u001b[49m\u001b[43m,\u001b[49m\n\u001b[1;32m   1201\u001b[0m \u001b[43m      \u001b[49m\u001b[43mclassifier_activation\u001b[49m\u001b[38;5;241;43m=\u001b[39;49m\u001b[43mclassifier_activation\u001b[49m\u001b[43m,\u001b[49m\n\u001b[1;32m   1202\u001b[0m \u001b[43m      \u001b[49m\u001b[43minclude_preprocessing\u001b[49m\u001b[38;5;241;43m=\u001b[39;49m\u001b[43minclude_preprocessing\u001b[49m\u001b[43m,\u001b[49m\n\u001b[1;32m   1203\u001b[0m \u001b[43m  \u001b[49m\u001b[43m)\u001b[49m\n",
      "File \u001b[0;32m/usr/local/lib/python3.9/dist-packages/keras/applications/efficientnet_v2.py:895\u001b[0m, in \u001b[0;36mEfficientNetV2\u001b[0;34m(width_coefficient, depth_coefficient, default_size, dropout_rate, drop_connect_rate, depth_divisor, min_depth, bn_momentum, activation, blocks_args, model_name, include_top, weights, input_tensor, input_shape, pooling, classes, classifier_activation, include_preprocessing)\u001b[0m\n\u001b[1;32m    888\u001b[0m   \u001b[38;5;28;01mraise\u001b[39;00m \u001b[38;5;167;01mValueError\u001b[39;00m(\u001b[38;5;124m\"\u001b[39m\u001b[38;5;124mThe `weights` argument should be either \u001b[39m\u001b[38;5;124m\"\u001b[39m\n\u001b[1;32m    889\u001b[0m                    \u001b[38;5;124m\"\u001b[39m\u001b[38;5;124m`None` (random initialization), `imagenet` \u001b[39m\u001b[38;5;124m\"\u001b[39m\n\u001b[1;32m    890\u001b[0m                    \u001b[38;5;124m\"\u001b[39m\u001b[38;5;124m(pre-training on ImageNet), \u001b[39m\u001b[38;5;124m\"\u001b[39m\n\u001b[1;32m    891\u001b[0m                    \u001b[38;5;124m\"\u001b[39m\u001b[38;5;124mor the path to the weights file to be loaded.\u001b[39m\u001b[38;5;124m\"\u001b[39m\n\u001b[1;32m    892\u001b[0m                    \u001b[38;5;124mf\u001b[39m\u001b[38;5;124m\"\u001b[39m\u001b[38;5;124mReceived: weights=\u001b[39m\u001b[38;5;132;01m{\u001b[39;00mweights\u001b[38;5;132;01m}\u001b[39;00m\u001b[38;5;124m\"\u001b[39m)\n\u001b[1;32m    894\u001b[0m \u001b[38;5;28;01mif\u001b[39;00m weights \u001b[38;5;241m==\u001b[39m \u001b[38;5;124m\"\u001b[39m\u001b[38;5;124mimagenet\u001b[39m\u001b[38;5;124m\"\u001b[39m \u001b[38;5;129;01mand\u001b[39;00m include_top \u001b[38;5;129;01mand\u001b[39;00m classes \u001b[38;5;241m!=\u001b[39m \u001b[38;5;241m1000\u001b[39m:\n\u001b[0;32m--> 895\u001b[0m   \u001b[38;5;28;01mraise\u001b[39;00m \u001b[38;5;167;01mValueError\u001b[39;00m(\u001b[38;5;124m\"\u001b[39m\u001b[38;5;124mIf using `weights` as `\u001b[39m\u001b[38;5;124m'\u001b[39m\u001b[38;5;124mimagenet\u001b[39m\u001b[38;5;124m'\u001b[39m\u001b[38;5;124m` with `include_top`\u001b[39m\u001b[38;5;124m\"\u001b[39m\n\u001b[1;32m    896\u001b[0m                    \u001b[38;5;124m\"\u001b[39m\u001b[38;5;124m as true, `classes` should be 1000\u001b[39m\u001b[38;5;124m\"\u001b[39m\n\u001b[1;32m    897\u001b[0m                    \u001b[38;5;124mf\u001b[39m\u001b[38;5;124m\"\u001b[39m\u001b[38;5;124mReceived: classes=\u001b[39m\u001b[38;5;132;01m{\u001b[39;00mclasses\u001b[38;5;132;01m}\u001b[39;00m\u001b[38;5;124m\"\u001b[39m)\n\u001b[1;32m    899\u001b[0m \u001b[38;5;66;03m# Determine proper input shape\u001b[39;00m\n\u001b[1;32m    900\u001b[0m input_shape \u001b[38;5;241m=\u001b[39m imagenet_utils\u001b[38;5;241m.\u001b[39mobtain_input_shape(\n\u001b[1;32m    901\u001b[0m     input_shape,\n\u001b[1;32m    902\u001b[0m     default_size\u001b[38;5;241m=\u001b[39mdefault_size,\n\u001b[0;32m   (...)\u001b[0m\n\u001b[1;32m    905\u001b[0m     require_flatten\u001b[38;5;241m=\u001b[39minclude_top,\n\u001b[1;32m    906\u001b[0m     weights\u001b[38;5;241m=\u001b[39mweights)\n",
      "\u001b[0;31mValueError\u001b[0m: If using `weights` as `'imagenet'` with `include_top` as true, `classes` should be 1000Received: classes=2"
     ]
    }
   ],
   "source": [
    "model = Sequential()\n",
    "\n",
    "\n",
    "pretrained_model = tf.keras.applications.EfficientNetV2S(\n",
    "    include_top=True,\n",
    "    weights='imagenet',\n",
    "    input_tensor=None,\n",
    "    input_shape=(224,224,3),\n",
    "    classes=2,\n",
    "    classifier_activation='softmax'\n",
    ")\n",
    "\n",
    "for layer in pretrained_model.layers:\n",
    "        layer.trainable=False\n",
    "model.add(pretrained_model)\n",
    "model.add(Flatten())\n",
    "model.add(Dense(256, activation = 'relu'))\n",
    "model.add(Dense(64, activation = 'relu'))\n",
    "model.add(Dense(2, activation = 'softmax'))\n",
    "\n",
    "\n"
   ]
  },
  {
   "cell_type": "code",
   "execution_count": null,
   "metadata": {
    "colab": {
     "base_uri": "https://localhost:8080/"
    },
    "execution": {
     "iopub.status.busy": "2022-12-19T16:00:18.645585Z",
     "iopub.status.idle": "2022-12-19T16:00:18.646772Z",
     "shell.execute_reply": "2022-12-19T16:00:18.646565Z",
     "shell.execute_reply.started": "2022-12-19T16:00:18.646540Z"
    },
    "id": "0A-xAjFlGYsH",
    "outputId": "075eaf4c-a0f5-4515-f982-7da9c1c8b8d1",
    "tags": []
   },
   "outputs": [],
   "source": [
    "model.summary()"
   ]
  },
  {
   "cell_type": "code",
   "execution_count": null,
   "metadata": {
    "execution": {
     "iopub.status.busy": "2022-12-19T16:00:18.647785Z",
     "iopub.status.idle": "2022-12-19T16:00:18.648498Z",
     "shell.execute_reply": "2022-12-19T16:00:18.648331Z",
     "shell.execute_reply.started": "2022-12-19T16:00:18.648312Z"
    },
    "id": "7KxvvQYBKMSK",
    "outputId": "9ddb7310-6674-44ca-e58c-83f77caebbbb"
   },
   "outputs": [],
   "source": [
    "checkpoint_path = \"chk_EfficientNetV2S1_modi_model.h5\"\n",
    "\n",
    "try:\n",
    "    model.load_weights(checkpoint_path)\n",
    "    \n",
    "except Exception as e:\n",
    "    print(e)\n",
    "    \n",
    "from keras.callbacks import ModelCheckpoint, EarlyStopping\n",
    "checkpoint = ModelCheckpoint(checkpoint_path, monitor='sparse_categorical_accuracy', save_best_only=True, save_weights_only=True,verbose=1, mode='auto')\n",
    "early = EarlyStopping(monitor='sparse_categorical_accuracy', min_delta=0, patience=20, verbose=1, mode='auto')    "
   ]
  },
  {
   "cell_type": "code",
   "execution_count": null,
   "metadata": {
    "execution": {
     "iopub.status.busy": "2022-12-19T16:00:18.649849Z",
     "iopub.status.idle": "2022-12-19T16:00:18.650606Z",
     "shell.execute_reply": "2022-12-19T16:00:18.650452Z",
     "shell.execute_reply.started": "2022-12-19T16:00:18.650433Z"
    },
    "id": "Xm1C970fGlS9",
    "tags": []
   },
   "outputs": [],
   "source": [
    "optimizer = Adam(learning_rate=0.005)\n",
    "# model.compile(loss=\n",
    "# tf.keras.losses.SparseCategoricalCrossentropy(\n",
    "#     from_logits=False,\n",
    "#     ignore_class=None,\n",
    "#     reduction=losses_utils.ReductionV2.AUTO,\n",
    "#     name='sparse_categorical_crossentropy'\n",
    "# ),\n",
    "#     optimizer=optimizer,\n",
    "#     metrics= ['MeanSquaredError','acc'])\n",
    "\n",
    "model.compile(\n",
    "    optimizer=keras.optimizers.RMSprop(),  # Optimizer\n",
    "    # Loss function to minimize\n",
    "    loss=keras.losses.SparseCategoricalCrossentropy(),\n",
    "    # List of metrics to monitor\n",
    "    metrics=[keras.metrics.SparseCategoricalAccuracy()],\n",
    ")\n"
   ]
  },
  {
   "cell_type": "code",
   "execution_count": null,
   "metadata": {
    "colab": {
     "base_uri": "https://localhost:8080/"
    },
    "execution": {
     "iopub.status.busy": "2022-12-19T16:00:18.651664Z",
     "iopub.status.idle": "2022-12-19T16:00:18.652317Z",
     "shell.execute_reply": "2022-12-19T16:00:18.652123Z",
     "shell.execute_reply.started": "2022-12-19T16:00:18.652104Z"
    },
    "id": "ea656x32G10B",
    "outputId": "8f550853-a294-4fca-c9a1-6c67f7cb4642"
   },
   "outputs": [],
   "source": [
    "history = model.fit(train_ds, validation_data= val_ds, epochs=10,callbacks=[checkpoint,early])"
   ]
  },
  {
   "cell_type": "code",
   "execution_count": null,
   "metadata": {
    "execution": {
     "iopub.status.busy": "2022-12-19T16:00:18.653357Z",
     "iopub.status.idle": "2022-12-19T16:00:18.653903Z",
     "shell.execute_reply": "2022-12-19T16:00:18.653756Z",
     "shell.execute_reply.started": "2022-12-19T16:00:18.653738Z"
    }
   },
   "outputs": [],
   "source": [
    "import pandas as pd"
   ]
  },
  {
   "cell_type": "code",
   "execution_count": null,
   "metadata": {
    "execution": {
     "iopub.status.busy": "2022-12-19T16:00:18.654759Z",
     "iopub.status.idle": "2022-12-19T16:00:18.655473Z",
     "shell.execute_reply": "2022-12-19T16:00:18.655299Z",
     "shell.execute_reply.started": "2022-12-19T16:00:18.655280Z"
    }
   },
   "outputs": [],
   "source": [
    "# convert the history.history dict to a pandas DataFrame:     \n",
    "hist_df = pd.DataFrame(history.history) \n",
    "\n",
    "# save to json:  \n",
    "hist_json_file = 'history.json' \n",
    "with open(hist_json_file, mode='w') as f:\n",
    "    hist_df.to_json(f)\n",
    "\n",
    "# or save to csv: \n",
    "hist_csv_file = 'history.csv'\n",
    "with open(hist_csv_file, mode='w') as f:\n",
    "    hist_df.to_csv(f)\n",
    "    "
   ]
  },
  {
   "cell_type": "code",
   "execution_count": null,
   "metadata": {
    "execution": {
     "iopub.status.busy": "2022-12-19T16:00:18.656322Z",
     "iopub.status.idle": "2022-12-19T16:00:18.657006Z",
     "shell.execute_reply": "2022-12-19T16:00:18.656856Z",
     "shell.execute_reply.started": "2022-12-19T16:00:18.656837Z"
    }
   },
   "outputs": [],
   "source": [
    " with pd.ExcelWriter('path_to_file.xlsx') as writer:\n",
    "    hist_df.to_excel(writer)"
   ]
  },
  {
   "cell_type": "code",
   "execution_count": null,
   "metadata": {
    "execution": {
     "iopub.status.busy": "2022-12-19T16:00:18.657735Z",
     "iopub.status.idle": "2022-12-19T16:00:18.658316Z",
     "shell.execute_reply": "2022-12-19T16:00:18.658164Z",
     "shell.execute_reply.started": "2022-12-19T16:00:18.658145Z"
    },
    "id": "Cx00tEbx634q",
    "outputId": "24ef5b0f-1775-4000-894f-e1a352b01f24"
   },
   "outputs": [],
   "source": [
    "import matplotlib.pyplot as plt\n",
    "acc = history.history['sparse_categorical_accuracy']\n",
    "val_acc = history.history['val_sparse_categorical_accuracy']\n",
    "loss = history.history['loss']\n",
    "val_loss = history.history['val_loss']\n",
    "epochs = range(1, len(acc) + 1)\n",
    "plt.plot(epochs, acc, label='Training acc')\n",
    "plt.plot(epochs, val_acc, 'b', label='Validation acc')\n",
    "plt.title('Training accuracy')\n",
    "plt.legend()\n",
    "plt.figure()\n",
    "plt.plot(epochs, loss, label='Training loss')\n",
    "plt.plot(epochs, val_loss, 'b', label='Validation loss')\n",
    "plt.title('Training loss')\n",
    "plt.legend()\n",
    "plt.show()"
   ]
  },
  {
   "cell_type": "code",
   "execution_count": null,
   "metadata": {
    "execution": {
     "iopub.status.busy": "2022-12-19T16:00:18.659194Z",
     "iopub.status.idle": "2022-12-19T16:00:18.659742Z",
     "shell.execute_reply": "2022-12-19T16:00:18.659592Z",
     "shell.execute_reply.started": "2022-12-19T16:00:18.659574Z"
    },
    "id": "G2PXsmcEKMSL",
    "outputId": "b1f09187-3491-400a-e1db-3dda0167244f"
   },
   "outputs": [],
   "source": [
    "from keras.models import load_model\n",
    "from keras.preprocessing import image\n",
    "import matplotlib.pyplot as plt\n",
    "import numpy as np\n",
    "import os\n",
    "\n",
    "\n",
    "#predictions = model.predict(test_ds)\n",
    "#result = model.evaluate(test_ds)\n",
    "#dict(zip(model.metrics_names, result))\n",
    "\n",
    "predictions = model.predict(test_ds)\n",
    "score = tf.nn.softmax(predictions)\n",
    "\n",
    "for i in score:\n",
    "    print(\n",
    "        \"This image most likely belongs to {} with a {:.2f} percent confidence.\"\n",
    "        .format(class_names[np.argmax(i)], 100 * np.max(i))\n",
    "    )\n"
   ]
  },
  {
   "cell_type": "code",
   "execution_count": null,
   "metadata": {
    "execution": {
     "iopub.status.busy": "2022-12-19T16:00:18.660630Z",
     "iopub.status.idle": "2022-12-19T16:00:18.661446Z",
     "shell.execute_reply": "2022-12-19T16:00:18.661286Z",
     "shell.execute_reply.started": "2022-12-19T16:00:18.661268Z"
    },
    "id": "WurxjeTwKMSM",
    "outputId": "d750bf1e-b274-47c5-9922-6939e96b6ff3"
   },
   "outputs": [],
   "source": [
    "result = model.evaluate(test_ds)\n",
    "d = dict(zip(model.metrics_names, result))"
   ]
  },
  {
   "cell_type": "code",
   "execution_count": null,
   "metadata": {
    "execution": {
     "iopub.status.busy": "2022-12-19T16:00:18.662282Z",
     "iopub.status.idle": "2022-12-19T16:00:18.662986Z",
     "shell.execute_reply": "2022-12-19T16:00:18.662807Z",
     "shell.execute_reply.started": "2022-12-19T16:00:18.662789Z"
    },
    "id": "3xMEkuWtUXoh",
    "outputId": "3c938f61-10aa-477b-9de3-4f836bbf4a70"
   },
   "outputs": [],
   "source": [
    "converter = tf.lite.TFLiteConverter.from_keras_model(model)\n",
    "tflite_model = converter.convert()\n",
    "\n",
    "with open(\"xception.tflite\", 'wb') as f:\n",
    "  f.write(tflite_model)"
   ]
  }
 ],
 "metadata": {
  "accelerator": "GPU",
  "colab": {
   "machine_shape": "hm",
   "provenance": []
  },
  "gpuClass": "standard",
  "kernelspec": {
   "display_name": "Python 3 (ipykernel)",
   "language": "python",
   "name": "python3"
  },
  "language_info": {
   "codemirror_mode": {
    "name": "ipython",
    "version": 3
   },
   "file_extension": ".py",
   "mimetype": "text/x-python",
   "name": "python",
   "nbconvert_exporter": "python",
   "pygments_lexer": "ipython3",
   "version": "3.9.13"
  }
 },
 "nbformat": 4,
 "nbformat_minor": 4
}
